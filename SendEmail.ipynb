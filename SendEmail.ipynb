{
 "cells": [
  {
   "cell_type": "code",
   "execution_count": null,
   "metadata": {},
   "outputs": [],
   "source": [
    "import requests\n",
    "import psycopg2\n",
    "import time\n",
    "import smtplib\n",
    "\n",
    "\n",
    "def sendemail(uid,aid,price,email):\n",
    "    mailsrv = smtplib.SMTP('smtp.gmail.com',587)\n",
    "    mailsrv.starttls()\n",
    "    mailsrv.login('______@gmail.com','secretkey')\n",
    "    body='GREETINGS FROM KRYPTO ALERT API SERVICE! DEAR user: '+str(uid)+ '  your alert for bitcoin: '+str(aid)+' is triggered!'+' it has reached the price:'+str(price)\n",
    "    print(body)\n",
    "    mailsrv.sendmail(\"KRYPTO ALERT- 19BCE10454\",email,body)\n",
    "    mailsrv.quit()\n",
    "    \n",
    "    \n",
    "def readq():\n",
    "        conn = psycopg2.connect(\n",
    "                host=\"localhost\",\n",
    "                database=\"postgres\",\n",
    "                user=\"postgres\",\n",
    "                password=\"postgres\")\n",
    "\n",
    "\n",
    "        cur =  conn.cursor()\n",
    "        cur.execute('SELECT uid,aid,price,email from public.alertq;')\n",
    "        result = cur.fetchall()\n",
    "        if(len(result)>0):\n",
    "            for r in result:\n",
    "                uid = r[0]\n",
    "                aid = r[1]\n",
    "                price=r[2]\n",
    "                email= r[3]\n",
    "                qinput=(r[0],r[1],r[2])\n",
    "                sendemail(uid,aid,price,email)\n",
    "                \n",
    "                cur.execute('Delete from public.alertq where uid=%s and aid=%s and price=%s;',qinput)\n",
    "                \n",
    "                conn.commit()\n",
    "                \n",
    "\n",
    "        else:\n",
    "            print(\"NO MESSAGE IN QUEUE\")\n",
    "\n",
    "\n",
    "\n",
    "        cur.close()\n",
    "        conn.close()\n",
    "    \n",
    "\n",
    "if __name__ == \"__main__\":\n",
    "    loopcount = 0\n",
    "    while(loopcount<1000):\n",
    "        readq()\n",
    "        time.sleep(10)\n",
    "        loopcount=loopcount+1    "
   ]
  }
 ],
 "metadata": {
  "kernelspec": {
   "display_name": "Python 3",
   "language": "python",
   "name": "python3"
  },
  "language_info": {
   "codemirror_mode": {
    "name": "ipython",
    "version": 3
   },
   "file_extension": ".py",
   "mimetype": "text/x-python",
   "name": "python",
   "nbconvert_exporter": "python",
   "pygments_lexer": "ipython3",
   "version": "3.8.3"
  }
 },
 "nbformat": 4,
 "nbformat_minor": 4
}
